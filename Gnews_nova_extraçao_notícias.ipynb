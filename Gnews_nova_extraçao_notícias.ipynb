{
  "nbformat": 4,
  "nbformat_minor": 0,
  "metadata": {
    "colab": {
      "provenance": [],
      "toc_visible": true,
      "authorship_tag": "ABX9TyPlYGHSV5vcEFCYr6a7FC6q",
      "include_colab_link": true
    },
    "kernelspec": {
      "name": "python3",
      "display_name": "Python 3"
    },
    "language_info": {
      "name": "python"
    }
  },
  "cells": [
    {
      "cell_type": "markdown",
      "metadata": {
        "id": "view-in-github",
        "colab_type": "text"
      },
      "source": [
        "<a href=\"https://colab.research.google.com/github/marianasod/xp_projeto_pratico/blob/main/Gnews_nova_extra%C3%A7ao_not%C3%ADcias.ipynb\" target=\"_parent\"><img src=\"https://colab.research.google.com/assets/colab-badge.svg\" alt=\"Open In Colab\"/></a>"
      ]
    },
    {
      "cell_type": "code",
      "execution_count": null,
      "metadata": {
        "colab": {
          "base_uri": "https://localhost:8080/"
        },
        "id": "TlnBKYQZLrud",
        "outputId": "be77528c-1f0d-48dd-aec2-fee0610fdafe"
      },
      "outputs": [
        {
          "output_type": "stream",
          "name": "stdout",
          "text": [
            "Collecting gnews\n",
            "  Downloading gnews-0.3.7-py3-none-any.whl.metadata (17 kB)\n",
            "Collecting feedparser~=6.0.2 (from gnews)\n",
            "  Downloading feedparser-6.0.11-py3-none-any.whl.metadata (2.4 kB)\n",
            "Requirement already satisfied: beautifulsoup4<5,>=4.9.3 in /usr/local/lib/python3.10/dist-packages (from gnews) (4.12.3)\n",
            "Collecting dnspython~=1.16.0 (from gnews)\n",
            "  Downloading dnspython-1.16.0-py2.py3-none-any.whl.metadata (1.8 kB)\n",
            "Requirement already satisfied: requests in /usr/local/lib/python3.10/dist-packages (from gnews) (2.32.3)\n",
            "Requirement already satisfied: soupsieve>1.2 in /usr/local/lib/python3.10/dist-packages (from beautifulsoup4<5,>=4.9.3->gnews) (2.5)\n",
            "Collecting sgmllib3k (from feedparser~=6.0.2->gnews)\n",
            "  Downloading sgmllib3k-1.0.0.tar.gz (5.8 kB)\n",
            "  Preparing metadata (setup.py) ... \u001b[?25l\u001b[?25hdone\n",
            "Requirement already satisfied: charset-normalizer<4,>=2 in /usr/local/lib/python3.10/dist-packages (from requests->gnews) (3.3.2)\n",
            "Requirement already satisfied: idna<4,>=2.5 in /usr/local/lib/python3.10/dist-packages (from requests->gnews) (3.7)\n",
            "Requirement already satisfied: urllib3<3,>=1.21.1 in /usr/local/lib/python3.10/dist-packages (from requests->gnews) (2.0.7)\n",
            "Requirement already satisfied: certifi>=2017.4.17 in /usr/local/lib/python3.10/dist-packages (from requests->gnews) (2024.7.4)\n",
            "Downloading gnews-0.3.7-py3-none-any.whl (15 kB)\n",
            "Downloading dnspython-1.16.0-py2.py3-none-any.whl (188 kB)\n",
            "\u001b[2K   \u001b[90m━━━━━━━━━━━━━━━━━━━━━━━━━━━━━━━━━━━━━━━━\u001b[0m \u001b[32m188.4/188.4 kB\u001b[0m \u001b[31m9.1 MB/s\u001b[0m eta \u001b[36m0:00:00\u001b[0m\n",
            "\u001b[?25hDownloading feedparser-6.0.11-py3-none-any.whl (81 kB)\n",
            "\u001b[2K   \u001b[90m━━━━━━━━━━━━━━━━━━━━━━━━━━━━━━━━━━━━━━━━\u001b[0m \u001b[32m81.3/81.3 kB\u001b[0m \u001b[31m4.9 MB/s\u001b[0m eta \u001b[36m0:00:00\u001b[0m\n",
            "\u001b[?25hBuilding wheels for collected packages: sgmllib3k\n",
            "  Building wheel for sgmllib3k (setup.py) ... \u001b[?25l\u001b[?25hdone\n",
            "  Created wheel for sgmllib3k: filename=sgmllib3k-1.0.0-py3-none-any.whl size=6047 sha256=18a8bf472a6df21cea929d795f2224b4277436ff81232543a122042a8fc8709f\n",
            "  Stored in directory: /root/.cache/pip/wheels/f0/69/93/a47e9d621be168e9e33c7ce60524393c0b92ae83cf6c6e89c5\n",
            "Successfully built sgmllib3k\n",
            "Installing collected packages: sgmllib3k, feedparser, dnspython, gnews\n",
            "Successfully installed dnspython-1.16.0 feedparser-6.0.11 gnews-0.3.7 sgmllib3k-1.0.0\n"
          ]
        }
      ],
      "source": [
        "pip install gnews"
      ]
    },
    {
      "cell_type": "code",
      "source": [
        "import pandas as pd\n",
        "from gnews import GNews\n",
        "from google.colab import files\n",
        "from datetime import datetime\n",
        "import seaborn as sns\n",
        "import matplotlib.pyplot as plt"
      ],
      "metadata": {
        "id": "fzDMKsAcJ5OQ"
      },
      "execution_count": null,
      "outputs": []
    },
    {
      "cell_type": "markdown",
      "source": [
        "##Funções\n"
      ],
      "metadata": {
        "id": "F5ZvrueWxKsO"
      }
    },
    {
      "cell_type": "code",
      "source": [
        "def remove_text(df:pd.DataFrame, text:str, text_list:list):\n",
        "   \"\"\"\n",
        "   Função para remover texto específico de um dataframe\n",
        "\n",
        "   Parâmetros:\n",
        "   df (pd.DataFrame): Dataframe a ser processado\n",
        "   text (str): Texto a ser removido\n",
        "   \"\"\"\n",
        "\n",
        "   df_filtrado = df\n",
        "   for t in text_list:\n",
        "      df_filtrado = df_filtrado[~df_filtrado[text].str.contains(t, case=False, na=False)]\n",
        "   return df_filtrado\n",
        "\n",
        "def get_news_api(list_text:list, period:str)\n",
        "    \"\"\"\n",
        "    Função para obter notícias a partir de uma lista de termos e um período de tempo\n",
        "\n",
        "    Parâmetros:\n",
        "    list_text (list): Lista de termos a serem pesquisados\n",
        "    \"\"\"\n",
        "\n",
        "    google_news = GNews(language='pt-419')\n",
        "    google_news.period = period\n",
        "    base_completa = pd.DataFrame()\n",
        "\n",
        "    for text in list_text:\n",
        "        text_news = pd.DataFrame(google_news.get_news(text))\n",
        "        text_news['term'] = text\n",
        "        base_completa = pd.concat([base_completa, text_news])\n",
        "\n",
        "    base_completa = base_completa.drop_duplicates()\n",
        "    return base_completa"
      ],
      "metadata": {
        "id": "Q11-l1_doMei"
      },
      "execution_count": null,
      "outputs": []
    },
    {
      "cell_type": "markdown",
      "source": [
        "##Obtenção das notícias\n"
      ],
      "metadata": {
        "id": "zv8RrLi4xGgj"
      }
    },
    {
      "cell_type": "code",
      "source": [
        "list_text = ['Bradesco','economia', 'PIB', 'Selic', 'desemprego', 'inadimplência', 'inflação', 'IPCA', 'IGP-M', 'IGP-DI', 'IBC-Br', 'previdência', 'déficit', 'balança comercial','dólar', 'euro', 'câmbio']\n",
        "base_completa = get_news_api(list_text, '240d')"
      ],
      "metadata": {
        "id": "LSsN5EhcpcZX"
      },
      "execution_count": null,
      "outputs": []
    },
    {
      "cell_type": "code",
      "source": [
        "len(base_completa)\n",
        "base_completa.info()"
      ],
      "metadata": {
        "id": "ndgqTgYiLz8a",
        "colab": {
          "base_uri": "https://localhost:8080/"
        },
        "outputId": "980cc7be-7799-4c8b-ac42-cc04277e782a"
      },
      "execution_count": null,
      "outputs": [
        {
          "output_type": "stream",
          "name": "stdout",
          "text": [
            "<class 'pandas.core.frame.DataFrame'>\n",
            "Index: 1327 entries, 0 to 58\n",
            "Data columns (total 6 columns):\n",
            " #   Column          Non-Null Count  Dtype \n",
            "---  ------          --------------  ----- \n",
            " 0   title           1327 non-null   object\n",
            " 1   description     1327 non-null   object\n",
            " 2   published date  1327 non-null   object\n",
            " 3   url             1327 non-null   object\n",
            " 4   publisher       1327 non-null   object\n",
            " 5   term            1327 non-null   object\n",
            "dtypes: object(6)\n",
            "memory usage: 72.6+ KB\n"
          ]
        }
      ]
    },
    {
      "cell_type": "markdown",
      "source": [
        "Remoções de notícias específicas ao contexto interno da empresa"
      ],
      "metadata": {
        "id": "GbD85o3exPFo"
      }
    },
    {
      "cell_type": "code",
      "source": [
        "texto_especifico = ['processo seletivo', \"curso\", \"cursos\", \"inscrição\"]\n",
        "base_completa = remove_text(base_completa, 'title', texto_especifico)"
      ],
      "metadata": {
        "id": "yb-XprJHoLpZ"
      },
      "execution_count": null,
      "outputs": []
    },
    {
      "cell_type": "code",
      "source": [
        "len(base_completa)"
      ],
      "metadata": {
        "colab": {
          "base_uri": "https://localhost:8080/"
        },
        "id": "qlkZEqhTy7xS",
        "outputId": "b64bbc6e-e9b4-4d91-c981-9e307cac9b05"
      },
      "execution_count": null,
      "outputs": [
        {
          "output_type": "execute_result",
          "data": {
            "text/plain": [
              "1316"
            ]
          },
          "metadata": {},
          "execution_count": 61
        }
      ]
    },
    {
      "cell_type": "markdown",
      "source": [
        "##Salvando as notícias obtidas"
      ],
      "metadata": {
        "id": "vR5ZoQDyxWk4"
      }
    },
    {
      "cell_type": "code",
      "source": [
        "# Exportar o DataFrame para um arquivo Excel\n",
        "file_name = 'base_completa_noticias_final.xlsx'\n",
        "base_completa.to_excel(file_name, index=False, engine='openpyxl')\n",
        "\n",
        "# Download do arquivo Excel\n",
        "files.download(file_name)"
      ],
      "metadata": {
        "colab": {
          "base_uri": "https://localhost:8080/",
          "height": 17
        },
        "id": "RKvpdJ9t7P4e",
        "outputId": "6cf389b3-3425-47ef-80b4-13a7011522a7"
      },
      "execution_count": null,
      "outputs": [
        {
          "output_type": "display_data",
          "data": {
            "text/plain": [
              "<IPython.core.display.Javascript object>"
            ],
            "application/javascript": [
              "\n",
              "    async function download(id, filename, size) {\n",
              "      if (!google.colab.kernel.accessAllowed) {\n",
              "        return;\n",
              "      }\n",
              "      const div = document.createElement('div');\n",
              "      const label = document.createElement('label');\n",
              "      label.textContent = `Downloading \"${filename}\": `;\n",
              "      div.appendChild(label);\n",
              "      const progress = document.createElement('progress');\n",
              "      progress.max = size;\n",
              "      div.appendChild(progress);\n",
              "      document.body.appendChild(div);\n",
              "\n",
              "      const buffers = [];\n",
              "      let downloaded = 0;\n",
              "\n",
              "      const channel = await google.colab.kernel.comms.open(id);\n",
              "      // Send a message to notify the kernel that we're ready.\n",
              "      channel.send({})\n",
              "\n",
              "      for await (const message of channel.messages) {\n",
              "        // Send a message to notify the kernel that we're ready.\n",
              "        channel.send({})\n",
              "        if (message.buffers) {\n",
              "          for (const buffer of message.buffers) {\n",
              "            buffers.push(buffer);\n",
              "            downloaded += buffer.byteLength;\n",
              "            progress.value = downloaded;\n",
              "          }\n",
              "        }\n",
              "      }\n",
              "      const blob = new Blob(buffers, {type: 'application/binary'});\n",
              "      const a = document.createElement('a');\n",
              "      a.href = window.URL.createObjectURL(blob);\n",
              "      a.download = filename;\n",
              "      div.appendChild(a);\n",
              "      a.click();\n",
              "      div.remove();\n",
              "    }\n",
              "  "
            ]
          },
          "metadata": {}
        },
        {
          "output_type": "display_data",
          "data": {
            "text/plain": [
              "<IPython.core.display.Javascript object>"
            ],
            "application/javascript": [
              "download(\"download_8e512b1b-5134-4b7c-bff7-1306764201a2\", \"base_completa_noticias_final.xlsx\", 420583)"
            ]
          },
          "metadata": {}
        }
      ]
    },
    {
      "cell_type": "markdown",
      "source": [
        "##Junção das bases de notícias atual e anterior"
      ],
      "metadata": {
        "id": "bBRTiAoEejMM"
      }
    },
    {
      "cell_type": "code",
      "source": [
        "df = pd.read_excel(\"/content/base_completa_noticias_final.xlsx\")"
      ],
      "metadata": {
        "id": "Ns9tPEi-MnL_"
      },
      "execution_count": null,
      "outputs": []
    },
    {
      "cell_type": "code",
      "source": [
        "df_ant = pd.read_excel(\"/content/bradesco_news.xlsx\")"
      ],
      "metadata": {
        "id": "rWKoI3KATsS9"
      },
      "execution_count": null,
      "outputs": []
    },
    {
      "cell_type": "code",
      "source": [
        "df.head()"
      ],
      "metadata": {
        "colab": {
          "base_uri": "https://localhost:8080/",
          "height": 328
        },
        "id": "QYeB0f1bUQJj",
        "outputId": "2b10e20f-2c27-41a9-c410-5a1ab0abb011"
      },
      "execution_count": null,
      "outputs": [
        {
          "output_type": "execute_result",
          "data": {
            "text/plain": [
              "                                               title  \\\n",
              "0  Bradesco tem leve queda em lucro do 1º trimest...   \n",
              "1  Bradesco avalia dez agências para atendimento ...   \n",
              "2  Bradesco (BBDC4) ignora aversão a risco e disp...   \n",
              "3  Marcelo Noronha, presidente do Bradesco: “O ce...   \n",
              "4  Em nova campanha, Bradesco revela universo de ...   \n",
              "\n",
              "                                         description  \\\n",
              "0  Bradesco tem leve queda em lucro do 1º trimest...   \n",
              "1  Bradesco avalia dez agências para atendimento ...   \n",
              "2  Bradesco (BBDC4) ignora aversão a risco e disp...   \n",
              "3  Marcelo Noronha, presidente do Bradesco: “O ce...   \n",
              "4  Em nova campanha, Bradesco revela universo de ...   \n",
              "\n",
              "                  published date  \\\n",
              "0  Thu, 02 May 2024 07:00:00 GMT   \n",
              "1  Tue, 30 Jul 2024 20:58:00 GMT   \n",
              "2  Mon, 05 Aug 2024 20:22:22 GMT   \n",
              "3  Fri, 31 May 2024 07:00:00 GMT   \n",
              "4  Tue, 30 Apr 2024 07:00:00 GMT   \n",
              "\n",
              "                                                 url  \\\n",
              "0  https://news.google.com/rss/articles/CBMilwFBV...   \n",
              "1  https://news.google.com/rss/articles/CBMitwFBV...   \n",
              "2  https://news.google.com/rss/articles/CBMiqwFBV...   \n",
              "3  https://news.google.com/rss/articles/CBMimgFBV...   \n",
              "4  https://news.google.com/rss/articles/CBMi7wFBV...   \n",
              "\n",
              "                                           publisher      term  \n",
              "0  {'href': 'https://forbes.com.br', 'title': 'Fo...  Bradesco  \n",
              "1  {'href': 'https://www.meioemensagem.com.br', '...  Bradesco  \n",
              "2  {'href': 'https://www.infomoney.com.br', 'titl...  Bradesco  \n",
              "3  {'href': 'https://veja.abril.com.br', 'title':...  Bradesco  \n",
              "4  {'href': 'https://www.folhavitoria.com.br', 't...  Bradesco  "
            ],
            "text/html": [
              "\n",
              "  <div id=\"df-f5afd9f7-0dfc-4fd1-bd0f-2b87c539646e\" class=\"colab-df-container\">\n",
              "    <div>\n",
              "<style scoped>\n",
              "    .dataframe tbody tr th:only-of-type {\n",
              "        vertical-align: middle;\n",
              "    }\n",
              "\n",
              "    .dataframe tbody tr th {\n",
              "        vertical-align: top;\n",
              "    }\n",
              "\n",
              "    .dataframe thead th {\n",
              "        text-align: right;\n",
              "    }\n",
              "</style>\n",
              "<table border=\"1\" class=\"dataframe\">\n",
              "  <thead>\n",
              "    <tr style=\"text-align: right;\">\n",
              "      <th></th>\n",
              "      <th>title</th>\n",
              "      <th>description</th>\n",
              "      <th>published date</th>\n",
              "      <th>url</th>\n",
              "      <th>publisher</th>\n",
              "      <th>term</th>\n",
              "    </tr>\n",
              "  </thead>\n",
              "  <tbody>\n",
              "    <tr>\n",
              "      <th>0</th>\n",
              "      <td>Bradesco tem leve queda em lucro do 1º trimest...</td>\n",
              "      <td>Bradesco tem leve queda em lucro do 1º trimest...</td>\n",
              "      <td>Thu, 02 May 2024 07:00:00 GMT</td>\n",
              "      <td>https://news.google.com/rss/articles/CBMilwFBV...</td>\n",
              "      <td>{'href': 'https://forbes.com.br', 'title': 'Fo...</td>\n",
              "      <td>Bradesco</td>\n",
              "    </tr>\n",
              "    <tr>\n",
              "      <th>1</th>\n",
              "      <td>Bradesco avalia dez agências para atendimento ...</td>\n",
              "      <td>Bradesco avalia dez agências para atendimento ...</td>\n",
              "      <td>Tue, 30 Jul 2024 20:58:00 GMT</td>\n",
              "      <td>https://news.google.com/rss/articles/CBMitwFBV...</td>\n",
              "      <td>{'href': 'https://www.meioemensagem.com.br', '...</td>\n",
              "      <td>Bradesco</td>\n",
              "    </tr>\n",
              "    <tr>\n",
              "      <th>2</th>\n",
              "      <td>Bradesco (BBDC4) ignora aversão a risco e disp...</td>\n",
              "      <td>Bradesco (BBDC4) ignora aversão a risco e disp...</td>\n",
              "      <td>Mon, 05 Aug 2024 20:22:22 GMT</td>\n",
              "      <td>https://news.google.com/rss/articles/CBMiqwFBV...</td>\n",
              "      <td>{'href': 'https://www.infomoney.com.br', 'titl...</td>\n",
              "      <td>Bradesco</td>\n",
              "    </tr>\n",
              "    <tr>\n",
              "      <th>3</th>\n",
              "      <td>Marcelo Noronha, presidente do Bradesco: “O ce...</td>\n",
              "      <td>Marcelo Noronha, presidente do Bradesco: “O ce...</td>\n",
              "      <td>Fri, 31 May 2024 07:00:00 GMT</td>\n",
              "      <td>https://news.google.com/rss/articles/CBMimgFBV...</td>\n",
              "      <td>{'href': 'https://veja.abril.com.br', 'title':...</td>\n",
              "      <td>Bradesco</td>\n",
              "    </tr>\n",
              "    <tr>\n",
              "      <th>4</th>\n",
              "      <td>Em nova campanha, Bradesco revela universo de ...</td>\n",
              "      <td>Em nova campanha, Bradesco revela universo de ...</td>\n",
              "      <td>Tue, 30 Apr 2024 07:00:00 GMT</td>\n",
              "      <td>https://news.google.com/rss/articles/CBMi7wFBV...</td>\n",
              "      <td>{'href': 'https://www.folhavitoria.com.br', 't...</td>\n",
              "      <td>Bradesco</td>\n",
              "    </tr>\n",
              "  </tbody>\n",
              "</table>\n",
              "</div>\n",
              "    <div class=\"colab-df-buttons\">\n",
              "\n",
              "  <div class=\"colab-df-container\">\n",
              "    <button class=\"colab-df-convert\" onclick=\"convertToInteractive('df-f5afd9f7-0dfc-4fd1-bd0f-2b87c539646e')\"\n",
              "            title=\"Convert this dataframe to an interactive table.\"\n",
              "            style=\"display:none;\">\n",
              "\n",
              "  <svg xmlns=\"http://www.w3.org/2000/svg\" height=\"24px\" viewBox=\"0 -960 960 960\">\n",
              "    <path d=\"M120-120v-720h720v720H120Zm60-500h600v-160H180v160Zm220 220h160v-160H400v160Zm0 220h160v-160H400v160ZM180-400h160v-160H180v160Zm440 0h160v-160H620v160ZM180-180h160v-160H180v160Zm440 0h160v-160H620v160Z\"/>\n",
              "  </svg>\n",
              "    </button>\n",
              "\n",
              "  <style>\n",
              "    .colab-df-container {\n",
              "      display:flex;\n",
              "      gap: 12px;\n",
              "    }\n",
              "\n",
              "    .colab-df-convert {\n",
              "      background-color: #E8F0FE;\n",
              "      border: none;\n",
              "      border-radius: 50%;\n",
              "      cursor: pointer;\n",
              "      display: none;\n",
              "      fill: #1967D2;\n",
              "      height: 32px;\n",
              "      padding: 0 0 0 0;\n",
              "      width: 32px;\n",
              "    }\n",
              "\n",
              "    .colab-df-convert:hover {\n",
              "      background-color: #E2EBFA;\n",
              "      box-shadow: 0px 1px 2px rgba(60, 64, 67, 0.3), 0px 1px 3px 1px rgba(60, 64, 67, 0.15);\n",
              "      fill: #174EA6;\n",
              "    }\n",
              "\n",
              "    .colab-df-buttons div {\n",
              "      margin-bottom: 4px;\n",
              "    }\n",
              "\n",
              "    [theme=dark] .colab-df-convert {\n",
              "      background-color: #3B4455;\n",
              "      fill: #D2E3FC;\n",
              "    }\n",
              "\n",
              "    [theme=dark] .colab-df-convert:hover {\n",
              "      background-color: #434B5C;\n",
              "      box-shadow: 0px 1px 3px 1px rgba(0, 0, 0, 0.15);\n",
              "      filter: drop-shadow(0px 1px 2px rgba(0, 0, 0, 0.3));\n",
              "      fill: #FFFFFF;\n",
              "    }\n",
              "  </style>\n",
              "\n",
              "    <script>\n",
              "      const buttonEl =\n",
              "        document.querySelector('#df-f5afd9f7-0dfc-4fd1-bd0f-2b87c539646e button.colab-df-convert');\n",
              "      buttonEl.style.display =\n",
              "        google.colab.kernel.accessAllowed ? 'block' : 'none';\n",
              "\n",
              "      async function convertToInteractive(key) {\n",
              "        const element = document.querySelector('#df-f5afd9f7-0dfc-4fd1-bd0f-2b87c539646e');\n",
              "        const dataTable =\n",
              "          await google.colab.kernel.invokeFunction('convertToInteractive',\n",
              "                                                    [key], {});\n",
              "        if (!dataTable) return;\n",
              "\n",
              "        const docLinkHtml = 'Like what you see? Visit the ' +\n",
              "          '<a target=\"_blank\" href=https://colab.research.google.com/notebooks/data_table.ipynb>data table notebook</a>'\n",
              "          + ' to learn more about interactive tables.';\n",
              "        element.innerHTML = '';\n",
              "        dataTable['output_type'] = 'display_data';\n",
              "        await google.colab.output.renderOutput(dataTable, element);\n",
              "        const docLink = document.createElement('div');\n",
              "        docLink.innerHTML = docLinkHtml;\n",
              "        element.appendChild(docLink);\n",
              "      }\n",
              "    </script>\n",
              "  </div>\n",
              "\n",
              "\n",
              "<div id=\"df-330d9b94-277b-4cfd-a30b-8dcd85af8028\">\n",
              "  <button class=\"colab-df-quickchart\" onclick=\"quickchart('df-330d9b94-277b-4cfd-a30b-8dcd85af8028')\"\n",
              "            title=\"Suggest charts\"\n",
              "            style=\"display:none;\">\n",
              "\n",
              "<svg xmlns=\"http://www.w3.org/2000/svg\" height=\"24px\"viewBox=\"0 0 24 24\"\n",
              "     width=\"24px\">\n",
              "    <g>\n",
              "        <path d=\"M19 3H5c-1.1 0-2 .9-2 2v14c0 1.1.9 2 2 2h14c1.1 0 2-.9 2-2V5c0-1.1-.9-2-2-2zM9 17H7v-7h2v7zm4 0h-2V7h2v10zm4 0h-2v-4h2v4z\"/>\n",
              "    </g>\n",
              "</svg>\n",
              "  </button>\n",
              "\n",
              "<style>\n",
              "  .colab-df-quickchart {\n",
              "      --bg-color: #E8F0FE;\n",
              "      --fill-color: #1967D2;\n",
              "      --hover-bg-color: #E2EBFA;\n",
              "      --hover-fill-color: #174EA6;\n",
              "      --disabled-fill-color: #AAA;\n",
              "      --disabled-bg-color: #DDD;\n",
              "  }\n",
              "\n",
              "  [theme=dark] .colab-df-quickchart {\n",
              "      --bg-color: #3B4455;\n",
              "      --fill-color: #D2E3FC;\n",
              "      --hover-bg-color: #434B5C;\n",
              "      --hover-fill-color: #FFFFFF;\n",
              "      --disabled-bg-color: #3B4455;\n",
              "      --disabled-fill-color: #666;\n",
              "  }\n",
              "\n",
              "  .colab-df-quickchart {\n",
              "    background-color: var(--bg-color);\n",
              "    border: none;\n",
              "    border-radius: 50%;\n",
              "    cursor: pointer;\n",
              "    display: none;\n",
              "    fill: var(--fill-color);\n",
              "    height: 32px;\n",
              "    padding: 0;\n",
              "    width: 32px;\n",
              "  }\n",
              "\n",
              "  .colab-df-quickchart:hover {\n",
              "    background-color: var(--hover-bg-color);\n",
              "    box-shadow: 0 1px 2px rgba(60, 64, 67, 0.3), 0 1px 3px 1px rgba(60, 64, 67, 0.15);\n",
              "    fill: var(--button-hover-fill-color);\n",
              "  }\n",
              "\n",
              "  .colab-df-quickchart-complete:disabled,\n",
              "  .colab-df-quickchart-complete:disabled:hover {\n",
              "    background-color: var(--disabled-bg-color);\n",
              "    fill: var(--disabled-fill-color);\n",
              "    box-shadow: none;\n",
              "  }\n",
              "\n",
              "  .colab-df-spinner {\n",
              "    border: 2px solid var(--fill-color);\n",
              "    border-color: transparent;\n",
              "    border-bottom-color: var(--fill-color);\n",
              "    animation:\n",
              "      spin 1s steps(1) infinite;\n",
              "  }\n",
              "\n",
              "  @keyframes spin {\n",
              "    0% {\n",
              "      border-color: transparent;\n",
              "      border-bottom-color: var(--fill-color);\n",
              "      border-left-color: var(--fill-color);\n",
              "    }\n",
              "    20% {\n",
              "      border-color: transparent;\n",
              "      border-left-color: var(--fill-color);\n",
              "      border-top-color: var(--fill-color);\n",
              "    }\n",
              "    30% {\n",
              "      border-color: transparent;\n",
              "      border-left-color: var(--fill-color);\n",
              "      border-top-color: var(--fill-color);\n",
              "      border-right-color: var(--fill-color);\n",
              "    }\n",
              "    40% {\n",
              "      border-color: transparent;\n",
              "      border-right-color: var(--fill-color);\n",
              "      border-top-color: var(--fill-color);\n",
              "    }\n",
              "    60% {\n",
              "      border-color: transparent;\n",
              "      border-right-color: var(--fill-color);\n",
              "    }\n",
              "    80% {\n",
              "      border-color: transparent;\n",
              "      border-right-color: var(--fill-color);\n",
              "      border-bottom-color: var(--fill-color);\n",
              "    }\n",
              "    90% {\n",
              "      border-color: transparent;\n",
              "      border-bottom-color: var(--fill-color);\n",
              "    }\n",
              "  }\n",
              "</style>\n",
              "\n",
              "  <script>\n",
              "    async function quickchart(key) {\n",
              "      const quickchartButtonEl =\n",
              "        document.querySelector('#' + key + ' button');\n",
              "      quickchartButtonEl.disabled = true;  // To prevent multiple clicks.\n",
              "      quickchartButtonEl.classList.add('colab-df-spinner');\n",
              "      try {\n",
              "        const charts = await google.colab.kernel.invokeFunction(\n",
              "            'suggestCharts', [key], {});\n",
              "      } catch (error) {\n",
              "        console.error('Error during call to suggestCharts:', error);\n",
              "      }\n",
              "      quickchartButtonEl.classList.remove('colab-df-spinner');\n",
              "      quickchartButtonEl.classList.add('colab-df-quickchart-complete');\n",
              "    }\n",
              "    (() => {\n",
              "      let quickchartButtonEl =\n",
              "        document.querySelector('#df-330d9b94-277b-4cfd-a30b-8dcd85af8028 button');\n",
              "      quickchartButtonEl.style.display =\n",
              "        google.colab.kernel.accessAllowed ? 'block' : 'none';\n",
              "    })();\n",
              "  </script>\n",
              "</div>\n",
              "\n",
              "    </div>\n",
              "  </div>\n"
            ],
            "application/vnd.google.colaboratory.intrinsic+json": {
              "type": "dataframe",
              "variable_name": "df",
              "summary": "{\n  \"name\": \"df\",\n  \"rows\": 1316,\n  \"fields\": [\n    {\n      \"column\": \"title\",\n      \"properties\": {\n        \"dtype\": \"string\",\n        \"num_unique_values\": 1254,\n        \"samples\": [\n          \"Renault Kardian manual com c\\u00e2mbio de Sandero RS j\\u00e1 tem data para chegar - Autoesporte\",\n          \"MTE apresenta Economia Solid\\u00e1ria para os membros do Cons\\u00f3rcio Nordeste nesta segunda-feira (19) - GOV.BR\",\n          \"Bradesco iniciar\\u00e1 campanha de vacina\\u00e7\\u00e3o contra gripe em meados de abril - Sindicato dos Banc\\u00e1rios\"\n        ],\n        \"semantic_type\": \"\",\n        \"description\": \"\"\n      }\n    },\n    {\n      \"column\": \"description\",\n      \"properties\": {\n        \"dtype\": \"string\",\n        \"num_unique_values\": 1254,\n        \"samples\": [\n          \"Renault Kardian manual com c\\u00e2mbio de Sandero RS j\\u00e1 tem data para chegar  Autoesporte\",\n          \"MTE apresenta Economia Solid\\u00e1ria para os membros do Cons\\u00f3rcio Nordeste nesta segunda-feira (19)  GOV.BR\",\n          \"Bradesco iniciar\\u00e1 campanha de vacina\\u00e7\\u00e3o contra gripe em meados de abril  Sindicato dos Banc\\u00e1rios\"\n        ],\n        \"semantic_type\": \"\",\n        \"description\": \"\"\n      }\n    },\n    {\n      \"column\": \"published date\",\n      \"properties\": {\n        \"dtype\": \"category\",\n        \"num_unique_values\": 254,\n        \"samples\": [\n          \"Fri, 07 Jun 2024 12:34:22 GMT\",\n          \"Wed, 07 Feb 2024 08:00:00 GMT\",\n          \"Thu, 04 Apr 2024 07:00:00 GMT\"\n        ],\n        \"semantic_type\": \"\",\n        \"description\": \"\"\n      }\n    },\n    {\n      \"column\": \"url\",\n      \"properties\": {\n        \"dtype\": \"string\",\n        \"num_unique_values\": 1256,\n        \"samples\": [\n          \"https://news.google.com/rss/articles/CBMiqgFBVV95cUxQaUxXZkdfWml4V3BOUzlsZEhXcHgxNDJGSktCT0xJTEhLT0l5eTNFY3I3aWVIc3FyNm5Bd205QXFSYnRzOGJEdmtJaEFUY1NqdnFTY0FobXRuQzY4QVFmUWM5dFY5ekpoNG5DRDBPY2g1MnB1bEFUTERZUS0wQkZqS3owVEdSbU1YOEQ4TVQzZ2MzTHJrTkI0OGhObURnd01MZEVrdlRSa1hVd9IBrwFBVV95cUxONTgtclk5b0lHYVg1QjE0ZVVsbl94TVJab2RsT1NhSlotZVZOOUU0dVJtR3FDT3F5SGsyM3l4WG5KeVRvUHdaVEMyYjNHbmQxSTJhSDFwMWVEV0lPRThFWjR2VzlhV2t2Y2F4N2w5dklkdHNXREFtX3FkaW1xWk1YRW5WcVJaNnhlLTZTVzhQd05wLVR2czQwZXROd0hQQ2tJVGI4VWNwYU0xOGFreDdJ?oc=5&hl=en-US&gl=US&ceid=US:en\",\n          \"https://news.google.com/rss/articles/CBMitwFBVV95cUxQQW1ISTVHYUxfN1M3b2JtWkRyTDdCbHV6S2FsbkNYaDFWMFVFOGZ5aTdDc1AxaEVnRWNOQ08wMnRhVzh6VHR1VU1HUktiUmNzTE03OVdiQjBvUkFab1B2RGVRQjN3VzNXcm5tOGgzcWVFdnRDeTlXSnZ6ZkNsVU92NTVNZE4zcmRkNG5KZDZtVFFNalZlQUg0TV9SR2tSM3RDQVVlNk96bjhZaVE4YU1GQzJaZzJ2Nkk?oc=5&hl=en-US&gl=US&ceid=US:en\",\n          \"https://news.google.com/rss/articles/CBMiqgFBVV95cUxQbC0zalh3TElfelRPSTdRTUxYNFhEM29ERkwxV1Joc1pkM0Y5MFFHaXRTaHlqeDgtQlZjZmtsZ2tPenBwdjFvWnFpbHVUWjZkR2FndW51NlVlbEtXbzBtNllIN0JWbWRma2ZJejJhQU05ZDE2NTROS3lyN213M1BKdWZ4U3gtaGk0TTdpZDBpSjNFdHJUVzdZdVRsYkxRaDZ0czZSUU8tWnBKZw?oc=5&hl=en-US&gl=US&ceid=US:en\"\n        ],\n        \"semantic_type\": \"\",\n        \"description\": \"\"\n      }\n    },\n    {\n      \"column\": \"publisher\",\n      \"properties\": {\n        \"dtype\": \"category\",\n        \"num_unique_values\": 169,\n        \"samples\": [\n          \"{'href': 'https://diplomatique.org.br', 'title': 'Le Monde Diplomatique Brasil'}\",\n          \"{'href': 'https://www.aen.pr.gov.br', 'title': 'Ag\\u00eancia Estadual de Not\\u00edcias'}\",\n          \"{'href': 'https://www.mobills.com.br', 'title': 'Mobills Not\\u00edcias'}\"\n        ],\n        \"semantic_type\": \"\",\n        \"description\": \"\"\n      }\n    },\n    {\n      \"column\": \"term\",\n      \"properties\": {\n        \"dtype\": \"category\",\n        \"num_unique_values\": 17,\n        \"samples\": [\n          \"Bradesco\",\n          \"economia\",\n          \"inadimpl\\u00eancia\"\n        ],\n        \"semantic_type\": \"\",\n        \"description\": \"\"\n      }\n    }\n  ]\n}"
            }
          },
          "metadata": {},
          "execution_count": 19
        }
      ]
    },
    {
      "cell_type": "code",
      "source": [
        "print(df_ant.columns)\n",
        "print(df.columns)\n"
      ],
      "metadata": {
        "colab": {
          "base_uri": "https://localhost:8080/"
        },
        "id": "dXftuXSUWMaS",
        "outputId": "47abf75f-09eb-475b-9fbe-29f795d19fd2"
      },
      "execution_count": null,
      "outputs": [
        {
          "output_type": "stream",
          "name": "stdout",
          "text": [
            "Index(['title', 'media', 'desc', 'link', 'data_aferida'], dtype='object')\n",
            "Index(['title', 'description', 'published date', 'url', 'publisher', 'term'], dtype='object')\n"
          ]
        }
      ]
    },
    {
      "cell_type": "markdown",
      "source": [
        "###Renomeando as colunas para junção"
      ],
      "metadata": {
        "id": "GBiXAkFNxqmN"
      }
    },
    {
      "cell_type": "code",
      "source": [
        "df_ant_final = df_ant[[\"title\", \"desc\", \"data_aferida\", \"link\"]]\n",
        "df_ant_final.columns = [\"title\", \"description\", \"published date\", \"url\"]\n",
        "df_ant_final[\"publisher\"] = \"\"\n",
        "df_ant_final[\"term\"] = \"bradesco\""
      ],
      "metadata": {
        "colab": {
          "base_uri": "https://localhost:8080/",
          "height": 311
        },
        "id": "W_3PTJaXUWBl",
        "outputId": "4f1ede60-4d6c-42a5-969c-c7de1cb766cd"
      },
      "execution_count": null,
      "outputs": [
        {
          "output_type": "execute_result",
          "data": {
            "text/plain": [
              "                                               title  \\\n",
              "0  Estelionatários agem no Bradesco e ‘detonam’ c...   \n",
              "1  Últimas semanas para participar do processo se...   \n",
              "2  Bradesco Vida e Previdência reforça estratégia...   \n",
              "3  Quem vai pagar mais dividendos no 2º trimestre...   \n",
              "4  Bradesco (BBDC4) no 2T24 ainda deve ficar aqué...   \n",
              "\n",
              "                                         description published date  \\\n",
              "0  A transação foi feita e a vítima deixou a agên...     2024-07-24   \n",
              "1  As inscrições para o processo seletivo Bradesc...     2024-07-24   \n",
              "2  Fonte: Bradesco. A Bradesco Vida e Previdência...     2024-07-23   \n",
              "3  Saiba quem irá pagar mais dividendos: Itaú, BB...     2024-07-24   \n",
              "4  O Bradesco (BBDC4) deve apresentar uma rentabi...     2024-07-23   \n",
              "\n",
              "                                                 url publisher      term  \n",
              "0  https://faroldenoticias.com.br/estelionatarios...            bradesco  \n",
              "1  https://jcconcursos.com.br/noticia/empregos/ul...            bradesco  \n",
              "2  https://www.sonhoseguro.com.br/2024/07/bradesc...            bradesco  \n",
              "3  https://einvestidor.estadao.com.br/webstories/...            bradesco  \n",
              "4  https://www.moneytimes.com.br/bradesco-bbdc4-n...            bradesco  "
            ],
            "text/html": [
              "\n",
              "  <div id=\"df-54aafea0-98f6-4e14-8db3-c7ac5ab9afd8\" class=\"colab-df-container\">\n",
              "    <div>\n",
              "<style scoped>\n",
              "    .dataframe tbody tr th:only-of-type {\n",
              "        vertical-align: middle;\n",
              "    }\n",
              "\n",
              "    .dataframe tbody tr th {\n",
              "        vertical-align: top;\n",
              "    }\n",
              "\n",
              "    .dataframe thead th {\n",
              "        text-align: right;\n",
              "    }\n",
              "</style>\n",
              "<table border=\"1\" class=\"dataframe\">\n",
              "  <thead>\n",
              "    <tr style=\"text-align: right;\">\n",
              "      <th></th>\n",
              "      <th>title</th>\n",
              "      <th>description</th>\n",
              "      <th>published date</th>\n",
              "      <th>url</th>\n",
              "      <th>publisher</th>\n",
              "      <th>term</th>\n",
              "    </tr>\n",
              "  </thead>\n",
              "  <tbody>\n",
              "    <tr>\n",
              "      <th>0</th>\n",
              "      <td>Estelionatários agem no Bradesco e ‘detonam’ c...</td>\n",
              "      <td>A transação foi feita e a vítima deixou a agên...</td>\n",
              "      <td>2024-07-24</td>\n",
              "      <td>https://faroldenoticias.com.br/estelionatarios...</td>\n",
              "      <td></td>\n",
              "      <td>bradesco</td>\n",
              "    </tr>\n",
              "    <tr>\n",
              "      <th>1</th>\n",
              "      <td>Últimas semanas para participar do processo se...</td>\n",
              "      <td>As inscrições para o processo seletivo Bradesc...</td>\n",
              "      <td>2024-07-24</td>\n",
              "      <td>https://jcconcursos.com.br/noticia/empregos/ul...</td>\n",
              "      <td></td>\n",
              "      <td>bradesco</td>\n",
              "    </tr>\n",
              "    <tr>\n",
              "      <th>2</th>\n",
              "      <td>Bradesco Vida e Previdência reforça estratégia...</td>\n",
              "      <td>Fonte: Bradesco. A Bradesco Vida e Previdência...</td>\n",
              "      <td>2024-07-23</td>\n",
              "      <td>https://www.sonhoseguro.com.br/2024/07/bradesc...</td>\n",
              "      <td></td>\n",
              "      <td>bradesco</td>\n",
              "    </tr>\n",
              "    <tr>\n",
              "      <th>3</th>\n",
              "      <td>Quem vai pagar mais dividendos no 2º trimestre...</td>\n",
              "      <td>Saiba quem irá pagar mais dividendos: Itaú, BB...</td>\n",
              "      <td>2024-07-24</td>\n",
              "      <td>https://einvestidor.estadao.com.br/webstories/...</td>\n",
              "      <td></td>\n",
              "      <td>bradesco</td>\n",
              "    </tr>\n",
              "    <tr>\n",
              "      <th>4</th>\n",
              "      <td>Bradesco (BBDC4) no 2T24 ainda deve ficar aqué...</td>\n",
              "      <td>O Bradesco (BBDC4) deve apresentar uma rentabi...</td>\n",
              "      <td>2024-07-23</td>\n",
              "      <td>https://www.moneytimes.com.br/bradesco-bbdc4-n...</td>\n",
              "      <td></td>\n",
              "      <td>bradesco</td>\n",
              "    </tr>\n",
              "  </tbody>\n",
              "</table>\n",
              "</div>\n",
              "    <div class=\"colab-df-buttons\">\n",
              "\n",
              "  <div class=\"colab-df-container\">\n",
              "    <button class=\"colab-df-convert\" onclick=\"convertToInteractive('df-54aafea0-98f6-4e14-8db3-c7ac5ab9afd8')\"\n",
              "            title=\"Convert this dataframe to an interactive table.\"\n",
              "            style=\"display:none;\">\n",
              "\n",
              "  <svg xmlns=\"http://www.w3.org/2000/svg\" height=\"24px\" viewBox=\"0 -960 960 960\">\n",
              "    <path d=\"M120-120v-720h720v720H120Zm60-500h600v-160H180v160Zm220 220h160v-160H400v160Zm0 220h160v-160H400v160ZM180-400h160v-160H180v160Zm440 0h160v-160H620v160ZM180-180h160v-160H180v160Zm440 0h160v-160H620v160Z\"/>\n",
              "  </svg>\n",
              "    </button>\n",
              "\n",
              "  <style>\n",
              "    .colab-df-container {\n",
              "      display:flex;\n",
              "      gap: 12px;\n",
              "    }\n",
              "\n",
              "    .colab-df-convert {\n",
              "      background-color: #E8F0FE;\n",
              "      border: none;\n",
              "      border-radius: 50%;\n",
              "      cursor: pointer;\n",
              "      display: none;\n",
              "      fill: #1967D2;\n",
              "      height: 32px;\n",
              "      padding: 0 0 0 0;\n",
              "      width: 32px;\n",
              "    }\n",
              "\n",
              "    .colab-df-convert:hover {\n",
              "      background-color: #E2EBFA;\n",
              "      box-shadow: 0px 1px 2px rgba(60, 64, 67, 0.3), 0px 1px 3px 1px rgba(60, 64, 67, 0.15);\n",
              "      fill: #174EA6;\n",
              "    }\n",
              "\n",
              "    .colab-df-buttons div {\n",
              "      margin-bottom: 4px;\n",
              "    }\n",
              "\n",
              "    [theme=dark] .colab-df-convert {\n",
              "      background-color: #3B4455;\n",
              "      fill: #D2E3FC;\n",
              "    }\n",
              "\n",
              "    [theme=dark] .colab-df-convert:hover {\n",
              "      background-color: #434B5C;\n",
              "      box-shadow: 0px 1px 3px 1px rgba(0, 0, 0, 0.15);\n",
              "      filter: drop-shadow(0px 1px 2px rgba(0, 0, 0, 0.3));\n",
              "      fill: #FFFFFF;\n",
              "    }\n",
              "  </style>\n",
              "\n",
              "    <script>\n",
              "      const buttonEl =\n",
              "        document.querySelector('#df-54aafea0-98f6-4e14-8db3-c7ac5ab9afd8 button.colab-df-convert');\n",
              "      buttonEl.style.display =\n",
              "        google.colab.kernel.accessAllowed ? 'block' : 'none';\n",
              "\n",
              "      async function convertToInteractive(key) {\n",
              "        const element = document.querySelector('#df-54aafea0-98f6-4e14-8db3-c7ac5ab9afd8');\n",
              "        const dataTable =\n",
              "          await google.colab.kernel.invokeFunction('convertToInteractive',\n",
              "                                                    [key], {});\n",
              "        if (!dataTable) return;\n",
              "\n",
              "        const docLinkHtml = 'Like what you see? Visit the ' +\n",
              "          '<a target=\"_blank\" href=https://colab.research.google.com/notebooks/data_table.ipynb>data table notebook</a>'\n",
              "          + ' to learn more about interactive tables.';\n",
              "        element.innerHTML = '';\n",
              "        dataTable['output_type'] = 'display_data';\n",
              "        await google.colab.output.renderOutput(dataTable, element);\n",
              "        const docLink = document.createElement('div');\n",
              "        docLink.innerHTML = docLinkHtml;\n",
              "        element.appendChild(docLink);\n",
              "      }\n",
              "    </script>\n",
              "  </div>\n",
              "\n",
              "\n",
              "<div id=\"df-edf0852b-5943-423d-8814-c28bb0e9a720\">\n",
              "  <button class=\"colab-df-quickchart\" onclick=\"quickchart('df-edf0852b-5943-423d-8814-c28bb0e9a720')\"\n",
              "            title=\"Suggest charts\"\n",
              "            style=\"display:none;\">\n",
              "\n",
              "<svg xmlns=\"http://www.w3.org/2000/svg\" height=\"24px\"viewBox=\"0 0 24 24\"\n",
              "     width=\"24px\">\n",
              "    <g>\n",
              "        <path d=\"M19 3H5c-1.1 0-2 .9-2 2v14c0 1.1.9 2 2 2h14c1.1 0 2-.9 2-2V5c0-1.1-.9-2-2-2zM9 17H7v-7h2v7zm4 0h-2V7h2v10zm4 0h-2v-4h2v4z\"/>\n",
              "    </g>\n",
              "</svg>\n",
              "  </button>\n",
              "\n",
              "<style>\n",
              "  .colab-df-quickchart {\n",
              "      --bg-color: #E8F0FE;\n",
              "      --fill-color: #1967D2;\n",
              "      --hover-bg-color: #E2EBFA;\n",
              "      --hover-fill-color: #174EA6;\n",
              "      --disabled-fill-color: #AAA;\n",
              "      --disabled-bg-color: #DDD;\n",
              "  }\n",
              "\n",
              "  [theme=dark] .colab-df-quickchart {\n",
              "      --bg-color: #3B4455;\n",
              "      --fill-color: #D2E3FC;\n",
              "      --hover-bg-color: #434B5C;\n",
              "      --hover-fill-color: #FFFFFF;\n",
              "      --disabled-bg-color: #3B4455;\n",
              "      --disabled-fill-color: #666;\n",
              "  }\n",
              "\n",
              "  .colab-df-quickchart {\n",
              "    background-color: var(--bg-color);\n",
              "    border: none;\n",
              "    border-radius: 50%;\n",
              "    cursor: pointer;\n",
              "    display: none;\n",
              "    fill: var(--fill-color);\n",
              "    height: 32px;\n",
              "    padding: 0;\n",
              "    width: 32px;\n",
              "  }\n",
              "\n",
              "  .colab-df-quickchart:hover {\n",
              "    background-color: var(--hover-bg-color);\n",
              "    box-shadow: 0 1px 2px rgba(60, 64, 67, 0.3), 0 1px 3px 1px rgba(60, 64, 67, 0.15);\n",
              "    fill: var(--button-hover-fill-color);\n",
              "  }\n",
              "\n",
              "  .colab-df-quickchart-complete:disabled,\n",
              "  .colab-df-quickchart-complete:disabled:hover {\n",
              "    background-color: var(--disabled-bg-color);\n",
              "    fill: var(--disabled-fill-color);\n",
              "    box-shadow: none;\n",
              "  }\n",
              "\n",
              "  .colab-df-spinner {\n",
              "    border: 2px solid var(--fill-color);\n",
              "    border-color: transparent;\n",
              "    border-bottom-color: var(--fill-color);\n",
              "    animation:\n",
              "      spin 1s steps(1) infinite;\n",
              "  }\n",
              "\n",
              "  @keyframes spin {\n",
              "    0% {\n",
              "      border-color: transparent;\n",
              "      border-bottom-color: var(--fill-color);\n",
              "      border-left-color: var(--fill-color);\n",
              "    }\n",
              "    20% {\n",
              "      border-color: transparent;\n",
              "      border-left-color: var(--fill-color);\n",
              "      border-top-color: var(--fill-color);\n",
              "    }\n",
              "    30% {\n",
              "      border-color: transparent;\n",
              "      border-left-color: var(--fill-color);\n",
              "      border-top-color: var(--fill-color);\n",
              "      border-right-color: var(--fill-color);\n",
              "    }\n",
              "    40% {\n",
              "      border-color: transparent;\n",
              "      border-right-color: var(--fill-color);\n",
              "      border-top-color: var(--fill-color);\n",
              "    }\n",
              "    60% {\n",
              "      border-color: transparent;\n",
              "      border-right-color: var(--fill-color);\n",
              "    }\n",
              "    80% {\n",
              "      border-color: transparent;\n",
              "      border-right-color: var(--fill-color);\n",
              "      border-bottom-color: var(--fill-color);\n",
              "    }\n",
              "    90% {\n",
              "      border-color: transparent;\n",
              "      border-bottom-color: var(--fill-color);\n",
              "    }\n",
              "  }\n",
              "</style>\n",
              "\n",
              "  <script>\n",
              "    async function quickchart(key) {\n",
              "      const quickchartButtonEl =\n",
              "        document.querySelector('#' + key + ' button');\n",
              "      quickchartButtonEl.disabled = true;  // To prevent multiple clicks.\n",
              "      quickchartButtonEl.classList.add('colab-df-spinner');\n",
              "      try {\n",
              "        const charts = await google.colab.kernel.invokeFunction(\n",
              "            'suggestCharts', [key], {});\n",
              "      } catch (error) {\n",
              "        console.error('Error during call to suggestCharts:', error);\n",
              "      }\n",
              "      quickchartButtonEl.classList.remove('colab-df-spinner');\n",
              "      quickchartButtonEl.classList.add('colab-df-quickchart-complete');\n",
              "    }\n",
              "    (() => {\n",
              "      let quickchartButtonEl =\n",
              "        document.querySelector('#df-edf0852b-5943-423d-8814-c28bb0e9a720 button');\n",
              "      quickchartButtonEl.style.display =\n",
              "        google.colab.kernel.accessAllowed ? 'block' : 'none';\n",
              "    })();\n",
              "  </script>\n",
              "</div>\n",
              "\n",
              "    </div>\n",
              "  </div>\n"
            ],
            "application/vnd.google.colaboratory.intrinsic+json": {
              "type": "dataframe",
              "variable_name": "df_ant_final",
              "summary": "{\n  \"name\": \"df_ant_final\",\n  \"rows\": 129,\n  \"fields\": [\n    {\n      \"column\": \"title\",\n      \"properties\": {\n        \"dtype\": \"string\",\n        \"num_unique_values\": 129,\n        \"samples\": [\n          \"Aplicativo do Bradesco come\\u00e7a a normalizar ap\\u00f3s apag\\u00e3o cibern\\u00e9tico\",\n          \"Apag\\u00e3o cibern\\u00e9tico afetou voos da Azul e aplicativo do Bradesco\",\n          \"Programa de Est\\u00e1gio Bradesco 2024\"\n        ],\n        \"semantic_type\": \"\",\n        \"description\": \"\"\n      }\n    },\n    {\n      \"column\": \"description\",\n      \"properties\": {\n        \"dtype\": \"string\",\n        \"num_unique_values\": 126,\n        \"samples\": [\n          \"Clientes do Bradesco relatam transtorno para usar servi\\u00e7os do banco, que admitiu falhas por conta de um apag\\u00e3o cibern\\u00e9tico global.\",\n          \"O Bradesco, um dos principais grupos financeiros do pa\\u00eds, est\\u00e1 com inscri\\u00e7\\u00f5es abertas para a nova edi\\u00e7\\u00e3o de seu Programa de Est\\u00e1gio que busca por estudantes...\",\n          \"O aplicativo do Bradesco ficou fora do ar e apresentou instabilidade nesta 2\\u00aa feira (15.Jul.2024). Usu\\u00e1rios do X (ex-Twitter), que utilizam o banco,...\"\n        ],\n        \"semantic_type\": \"\",\n        \"description\": \"\"\n      }\n    },\n    {\n      \"column\": \"published date\",\n      \"properties\": {\n        \"dtype\": \"date\",\n        \"min\": \"2020-10-30 00:00:00\",\n        \"max\": \"2024-07-24 00:00:00\",\n        \"num_unique_values\": 13,\n        \"samples\": [\n          \"2020-10-30 00:00:00\",\n          \"2024-06-26 00:00:00\",\n          \"2024-07-24 00:00:00\"\n        ],\n        \"semantic_type\": \"\",\n        \"description\": \"\"\n      }\n    },\n    {\n      \"column\": \"url\",\n      \"properties\": {\n        \"dtype\": \"string\",\n        \"num_unique_values\": 129,\n        \"samples\": [\n          \"https://www.opovo.com.br/noticias/economia/2024/07/19/aplicativo-do-bradesco-comeca-a-normalizar-apos-apagao-cibernetico.html&ved=2ahUKEwjfzKPXur-HAxUqle4BHR0UBvs4PBDF9AF6BAgCEAI&usg=AOvVaw0eehqpp5QrctQkvL7amr-n\",\n          \"https://www.portaldenoticias.com.br/noticia/34333/sao-jeronimo-rs/geral/apagao-cibernetico-afetou-voos-da-azul-e-aplicativo-do-bradesco.html&ved=2ahUKEwjo7ezWur-HAxXZLUQIHV98Dds4KBDF9AF6BAgCEAI&usg=AOvVaw12NyEbW1zhyKpXguZBWXTU\",\n          \"https://www.alouberlandia.com/servicos/programa-de-estagio-bradesco-2024/&ved=2ahUKEwjpx7PWur-HAxVAHEQIHVBjBGQ4FBDF9AF6BAgJEAI&usg=AOvVaw0ubqLukDkDdtMET9VMFJSQ\"\n        ],\n        \"semantic_type\": \"\",\n        \"description\": \"\"\n      }\n    },\n    {\n      \"column\": \"publisher\",\n      \"properties\": {\n        \"dtype\": \"object\",\n        \"num_unique_values\": 1,\n        \"samples\": [\n          \"\"\n        ],\n        \"semantic_type\": \"\",\n        \"description\": \"\"\n      }\n    },\n    {\n      \"column\": \"term\",\n      \"properties\": {\n        \"dtype\": \"category\",\n        \"num_unique_values\": 1,\n        \"samples\": [\n          \"bradesco\"\n        ],\n        \"semantic_type\": \"\",\n        \"description\": \"\"\n      }\n    }\n  ]\n}"
            }
          },
          "metadata": {},
          "execution_count": 21
        }
      ]
    },
    {
      "cell_type": "markdown",
      "source": [
        "###Realizando a junção, removendo as duplicatas e salvando a base completa"
      ],
      "metadata": {
        "id": "30qv4qFMx9b4"
      }
    },
    {
      "cell_type": "code",
      "source": [
        "df_junto = pd.concat([df, df_ant_final]).drop_duplicates()\n",
        "df_cleaned = df_junto.drop_duplicates(subset=['title', 'description'])"
      ],
      "metadata": {
        "id": "asFCIq3Ex5fw"
      },
      "execution_count": null,
      "outputs": []
    },
    {
      "cell_type": "code",
      "source": [
        "df_cleaned.to_excel(\"base_completa_noticias_final_juncao.xlsx\", index=False, engine='openpyxl')\n",
        "files.download(\"base_completa_noticias_final_juncao.xlsx\")"
      ],
      "metadata": {
        "colab": {
          "base_uri": "https://localhost:8080/",
          "height": 17
        },
        "id": "5ZIIzHfOYhP_",
        "outputId": "7dc4a2a6-673a-49fe-f357-381da1436606"
      },
      "execution_count": null,
      "outputs": [
        {
          "output_type": "display_data",
          "data": {
            "text/plain": [
              "<IPython.core.display.Javascript object>"
            ],
            "application/javascript": [
              "\n",
              "    async function download(id, filename, size) {\n",
              "      if (!google.colab.kernel.accessAllowed) {\n",
              "        return;\n",
              "      }\n",
              "      const div = document.createElement('div');\n",
              "      const label = document.createElement('label');\n",
              "      label.textContent = `Downloading \"${filename}\": `;\n",
              "      div.appendChild(label);\n",
              "      const progress = document.createElement('progress');\n",
              "      progress.max = size;\n",
              "      div.appendChild(progress);\n",
              "      document.body.appendChild(div);\n",
              "\n",
              "      const buffers = [];\n",
              "      let downloaded = 0;\n",
              "\n",
              "      const channel = await google.colab.kernel.comms.open(id);\n",
              "      // Send a message to notify the kernel that we're ready.\n",
              "      channel.send({})\n",
              "\n",
              "      for await (const message of channel.messages) {\n",
              "        // Send a message to notify the kernel that we're ready.\n",
              "        channel.send({})\n",
              "        if (message.buffers) {\n",
              "          for (const buffer of message.buffers) {\n",
              "            buffers.push(buffer);\n",
              "            downloaded += buffer.byteLength;\n",
              "            progress.value = downloaded;\n",
              "          }\n",
              "        }\n",
              "      }\n",
              "      const blob = new Blob(buffers, {type: 'application/binary'});\n",
              "      const a = document.createElement('a');\n",
              "      a.href = window.URL.createObjectURL(blob);\n",
              "      a.download = filename;\n",
              "      div.appendChild(a);\n",
              "      a.click();\n",
              "      div.remove();\n",
              "    }\n",
              "  "
            ]
          },
          "metadata": {}
        },
        {
          "output_type": "display_data",
          "data": {
            "text/plain": [
              "<IPython.core.display.Javascript object>"
            ],
            "application/javascript": [
              "download(\"download_78aafa8e-58d7-40c4-933f-2fac7210fcc8\", \"base_completa_noticias_final_juncao.xlsx\", 427573)"
            ]
          },
          "metadata": {}
        }
      ]
    }
  ]
}